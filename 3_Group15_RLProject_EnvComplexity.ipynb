{
 "cells": [
  {
   "cell_type": "markdown",
   "metadata": {},
   "source": [
    "## 0. Notebook description\n",
    "This notebook explores the impact of increased environment complexity on the agent's performance. We modify key environment parameters, such as the `vehicles_count` and `lanes_count`, to introduce greater challenges (e.g., denser traffic, more lanes). \n",
    "\n",
    "The notebook is structured as follows:\n",
    "1. **Environment Modification:** Adjusts environment parameters to create a more complex scenario.\n",
    "2. **Agent Testing:** Evaluates a pre-trained agent's performance in the modified environment.\n",
    "3. **Retraining:** Trains an agent from scratch to adapt to the new complexity.\n",
    "4. **Performance Analysis:** Compares the pre-trained agent's performance with the retrained agent, discussing insights and observed trends."
   ]
  },
  {
   "cell_type": "markdown",
   "metadata": {},
   "source": [
    "## 1. Environment Modification"
   ]
  },
  {
   "cell_type": "code",
   "execution_count": null,
   "metadata": {},
   "outputs": [],
   "source": [
    "import gymnasium\n",
    "import highway_env\n",
    "from gymnasium import register\n",
    "\n",
    "register(\n",
    "  id='CustomRewardEnv',\n",
    "  entry_point='HighwayEnvCustomReward:HighwayEnvFastCustomReward',\n",
    ")\n",
    "env = gymnasium.make('CustomRewardEnv', render_mode='rgb_array')\n",
    "\n",
    "config_updates = {\n",
    "    \"safe_distance_reward\": 0.1,\n",
    "    \"left_vehicle_overtaken_reward\": -0.5,\n",
    "    \"collision_reward\": -4,\n",
    "    \"lanes_count\": 6, # more lanes\n",
    "    \"vehicles_count\": 60, # more vehicles\n",
    "}"
   ]
  },
  {
   "cell_type": "markdown",
   "metadata": {},
   "source": [
    "## 2. Evaluate pre-trained agent's performance"
   ]
  },
  {
   "cell_type": "code",
   "execution_count": null,
   "metadata": {},
   "outputs": [],
   "source": [
    "from utils.evaluation import evaluate_model\n",
    "\n",
    "evaluate_model(env, ) # todo: add model path"
   ]
  },
  {
   "cell_type": "markdown",
   "metadata": {},
   "source": [
    "## 3. Retrain an agent on complex environment"
   ]
  },
  {
   "cell_type": "code",
   "execution_count": null,
   "metadata": {},
   "outputs": [],
   "source": [
    "from utils.training import train_model\n",
    "\n",
    "# train model\n",
    "train_model(\n",
    "    env, \n",
    "    config_updates=config_updates,\n",
    "    session_name=\"complex_env\",\n",
    ")"
   ]
  },
  {
   "cell_type": "code",
   "execution_count": null,
   "metadata": {},
   "outputs": [],
   "source": [
    "# evaluate model\n",
    "\n",
    "evaluate_model(env, ) # todo: add model path"
   ]
  },
  {
   "cell_type": "markdown",
   "metadata": {},
   "source": [
    "## 4. Analysis"
   ]
  }
 ],
 "metadata": {
  "language_info": {
   "name": "python"
  }
 },
 "nbformat": 4,
 "nbformat_minor": 2
}
