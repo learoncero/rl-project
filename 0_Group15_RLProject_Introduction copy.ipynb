{
 "cells": [
  {
   "cell_type": "markdown",
   "metadata": {},
   "source": [
    "# RL project - Autonomous Driving with Deep Reinforcement Learning\n",
    "*Group 17 - Dorothy Modrall Sperling, Manuel Schönberger, Lea Roncero*"
   ]
  },
  {
   "cell_type": "markdown",
   "metadata": {},
   "source": [
    "## Introduction"
   ]
  },
  {
   "cell_type": "markdown",
   "metadata": {},
   "source": [
    "### Overview of the project\n",
    "The goal of this project is to design and develop a deep reinforcement learning (DRL) agent capable of autonomous driving within the HighwayEnv simulation environment. Autonomous driving presents a significant challenge in artificial intelligence and machine learning, requiring agents to make decisions that balance safety, efficiency, and adaptability in real-time. Using the tools provided by the Stable Baselines 3 library, this project aims to train and evaluate DRL algorithms to optimize the driving behavior of the agent.\n",
    "\n",
    "### Objectives\n",
    "This project encompasses three primary objectives:\n",
    "\n",
    "- **Reward Engineering:** Design and implement a custom reward function that encourages optimal\n",
    "driving behavior.\n",
    "- **Algorithm Comparison:** Train your agent using at least two different DRL algorithms from Stable\n",
    "Baselines 3 and compare their performances.\n",
    "- **Environment Extension:** Modify the environment to increase its complexity and adapt your agent\n",
    "accordingly."
   ]
  }
 ],
 "metadata": {
  "kernelspec": {
   "display_name": "Python 3",
   "language": "python",
   "name": "python3"
  },
  "language_info": {
   "name": "python",
   "version": "3.12.8"
  }
 },
 "nbformat": 4,
 "nbformat_minor": 2
}
